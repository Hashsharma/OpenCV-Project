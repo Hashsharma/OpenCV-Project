{
 "cells": [
  {
   "cell_type": "code",
   "execution_count": null,
   "metadata": {},
   "outputs": [],
   "source": [
    "import cv2 as cv"
   ]
  },
  {
   "cell_type": "code",
   "execution_count": null,
   "metadata": {},
   "outputs": [],
   "source": [
    "img = cv.imread('../Resources/Photos/eye.jpg')\n",
    "filtered_image = cv.bilateralFilter(img, d=9, sigmaColor=100, sigmaSpace=100)\n",
    "\n",
    "def show_images(title, image):\n",
    "\n",
    "    cv.imshow(title, image)\n",
    "    cv.waitKey(0)\n",
    "    cv.destroyAllWindows()\n",
    "\n",
    "def show_multiple_images(**key_img):\n",
    "    for i in key_img:\n",
    "        \n",
    "\n",
    "# Parameters\n",
    "# src\tSource 8-bit or floating-point, 1-channel or 3-channel image.\n",
    "# dst\tDestination image of the same size and type as src .\n",
    "# d\tDiameter of each pixel neighborhood that is used during filtering. If it is non-positive, it is computed from sigmaSpace.\n",
    "# sigmaColor\tFilter sigma in the color space. A larger value of the parameter means that farther colors within the pixel neighborhood (see sigmaSpace) will be mixed together, resulting in larger areas of semi-equal color.\n",
    "# sigmaSpace\tFilter sigma in the coordinate space. A larger value of the parameter means that farther pixels will influence each other as long as their colors are close enough (see sigmaColor ). When d>0, it specifies the neighborhood size regardless of sigmaSpace. Otherwise, d is proportional to sigmaSpace.\n",
    "# borderType\tborder mode used to extrapolate pixels outside of the image, see BorderTypes\n",
    "# If d=9, the filter will consider a 9x9 square area around each pixel.\n",
    "# sigmaSpace controls how much influence pixels that are farther away from the center pixel have on the smoothing process. Essentially, it adjusts how \"far\" the filter looks when deciding how to blend pixels.\n",
    "cv.imshow('Main images', img)\n",
    "show_images('Bilateral Blur', filtered_image)\n",
    "\n"
   ]
  },
  {
   "cell_type": "code",
   "execution_count": null,
   "metadata": {},
   "outputs": [],
   "source": [
    "def multiple_images(**images):\n",
    "    for title, image in images.items():\n",
    "        cv.imshow(title, image)\n",
    "    \n",
    "    cv.waitKey(0)\n",
    "    cv.destroyAllWindows()\n",
    "\n",
    "### Gaussian blur and A kernel is usually a small square or rectangular matrix. \n",
    "## Gaussiang is good for places rather than face ...\n",
    "g_blur = cv.GaussianBlur(img, (3, 3), 0)\n",
    "\n",
    "di = {\n",
    "    \"Image\": img,\n",
    "    \"Gaussian blur\": g_blur\n",
    "}\n",
    "\n",
    "multiple_images(**di)    "
   ]
  },
  {
   "cell_type": "code",
   "execution_count": 21,
   "metadata": {},
   "outputs": [],
   "source": [
    "## Erosiong\n",
    "img_gray_sc = cv.cvtColor(img, cv.COLOR_BGR2GRAY)\n",
    "img_erosion = cv.erode(img_gray_sc, (5, 5), iterations=9)\n",
    "# show_images('Erosions images', img_erosion) --> You have to make it in gray_scale\n",
    "# show_images('Dilated Images', img_erosion)\n",
    "# Dilating the images\n",
    "img_dilate = cv.dilate(img_gray_sc, (5, 5), iterations=9)\n",
    "di2 = {\n",
    "    \"Image\": img,\n",
    "    \"Gray Scale Images\": img_gray_sc,\n",
    "    \"Image Erosion\": img_erosion,\n",
    "    \"Image Dilate\": img_dilate\n",
    "}\n",
    "multiple_images(**di2)\n"
   ]
  },
  {
   "cell_type": "code",
   "execution_count": null,
   "metadata": {},
   "outputs": [],
   "source": []
  }
 ],
 "metadata": {
  "kernelspec": {
   "display_name": "venv_peps",
   "language": "python",
   "name": "venv_peps"
  },
  "language_info": {
   "codemirror_mode": {
    "name": "ipython",
    "version": 3
   },
   "file_extension": ".py",
   "mimetype": "text/x-python",
   "name": "python",
   "nbconvert_exporter": "python",
   "pygments_lexer": "ipython3",
   "version": "3.10.6"
  }
 },
 "nbformat": 4,
 "nbformat_minor": 2
}
