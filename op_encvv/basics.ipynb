{
 "cells": [
  {
   "cell_type": "code",
   "execution_count": 1,
   "metadata": {},
   "outputs": [],
   "source": [
    "import cv2 as cv"
   ]
  },
  {
   "cell_type": "code",
   "execution_count": 4,
   "metadata": {},
   "outputs": [
    {
     "data": {
      "text/plain": [
       "-1"
      ]
     },
     "execution_count": 4,
     "metadata": {},
     "output_type": "execute_result"
    }
   ],
   "source": [
    "img = cv.imread('../Resources/Photos/park.jpg')\n",
    "cv.imshow('Main image', img)\n",
    "cv.waitKey(0)"
   ]
  },
  {
   "cell_type": "code",
   "execution_count": 8,
   "metadata": {},
   "outputs": [],
   "source": [
    "def show_images(title, images):\n",
    "    cv.imshow(title, images)\n",
    "    cv.waitKey(0)"
   ]
  },
  {
   "cell_type": "code",
   "execution_count": 23,
   "metadata": {},
   "outputs": [],
   "source": [
    "## Converting to grayscale\n",
    "img_grayscale = cv.cvtColor(img, cv.COLOR_BGR2GRAY)\n",
    "show_images('grayscale_images', img_grayscale)\n"
   ]
  },
  {
   "cell_type": "code",
   "execution_count": 16,
   "metadata": {},
   "outputs": [],
   "source": [
    "# Blur images Gaussian\n",
    "img_blur = cv.GaussianBlur(img, (7, 7), cv.BORDER_DEFAULT)\n",
    "show_images('Blur Gaussian', img_blur)"
   ]
  },
  {
   "cell_type": "code",
   "execution_count": 28,
   "metadata": {},
   "outputs": [],
   "source": [
    "# Edge cascading / Canny\n",
    "img_cascade = cv.Canny(img_blur, 125, 175)\n",
    "show_images('Canny images', img_cascade)"
   ]
  },
  {
   "cell_type": "code",
   "execution_count": 29,
   "metadata": {},
   "outputs": [],
   "source": [
    "# Edge cascading / Canny without blur\n",
    "img_cascade_no_blur = cv.Canny(img, 125, 175)\n",
    "show_images('Canny images', img_cascade)"
   ]
  },
  {
   "cell_type": "code",
   "execution_count": 30,
   "metadata": {},
   "outputs": [],
   "source": [
    "# Dilating images\n",
    "img_dilate = cv.dilate(img, (7, 7), iterations=3)\n",
    "show_images('Dilated Images', img_dilate)"
   ]
  },
  {
   "cell_type": "code",
   "execution_count": 34,
   "metadata": {},
   "outputs": [],
   "source": [
    "# Dilating images\n",
    "img_dilate = cv.dilate(img_cascade, (7, 7), iterations=3)\n",
    "show_images('Dilated Images', img_dilate)"
   ]
  },
  {
   "cell_type": "code",
   "execution_count": 39,
   "metadata": {},
   "outputs": [],
   "source": [
    "## Erosiong\n",
    "img_erosion = cv.erode(img, (7, 7), iterations=9)\n",
    "# show_images('Erosions images', img_erosion)\n",
    "img_erosion_dilate = cv.erode(img_dilate, (7, 7), iterations=7)\n",
    "show_images('Dilated Images', img_dilate)\n",
    "show_images('Erosion after dilate', img_erosion_dilate)"
   ]
  },
  {
   "cell_type": "code",
   "execution_count": 43,
   "metadata": {},
   "outputs": [],
   "source": [
    "## Resize of images\n",
    "img_resize = cv.resize(img, (1000, 1000), interpolation=cv.INTER_CUBIC)\n",
    "show_images('Resize of images', img_resize)"
   ]
  },
  {
   "cell_type": "code",
   "execution_count": 52,
   "metadata": {},
   "outputs": [],
   "source": [
    "### Cropping of images\n",
    "img_crop = img_resize[50:200, 300:400]\n",
    "# img_crop\n",
    "show_images('Cropped image', img_crop)"
   ]
  },
  {
   "cell_type": "code",
   "execution_count": null,
   "metadata": {},
   "outputs": [],
   "source": []
  }
 ],
 "metadata": {
  "kernelspec": {
   "display_name": "venv_peps",
   "language": "python",
   "name": "venv_peps"
  },
  "language_info": {
   "codemirror_mode": {
    "name": "ipython",
    "version": 3
   },
   "file_extension": ".py",
   "mimetype": "text/x-python",
   "name": "python",
   "nbconvert_exporter": "python",
   "pygments_lexer": "ipython3",
   "version": "3.10.6"
  }
 },
 "nbformat": 4,
 "nbformat_minor": 2
}
