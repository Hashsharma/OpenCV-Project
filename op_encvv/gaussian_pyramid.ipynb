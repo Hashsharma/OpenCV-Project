{
 "cells": [
  {
   "cell_type": "code",
   "execution_count": 1,
   "metadata": {},
   "outputs": [],
   "source": [
    "import cv2\n",
    "import numpy as np\n",
    "\n",
    "# Function to generate the Gaussian Pyramid\n",
    "def generate_gaussian_pyramid(image, levels):\n",
    "    gaussian_pyramid = [image]\n",
    "    \n",
    "    # Generate the pyramid levels\n",
    "    for i in range(1, levels):\n",
    "        # Apply Gaussian blur and downsample the image\n",
    "        image = cv2.GaussianBlur(image, (5, 5), 0)  # Apply Gaussian blur\n",
    "        image = cv2.resize(image, (image.shape[1] // 2, image.shape[0] // 2))  # Downsample the image\n",
    "        gaussian_pyramid.append(image)\n",
    "    \n",
    "    return gaussian_pyramid"
   ]
  },
  {
   "cell_type": "code",
   "execution_count": 3,
   "metadata": {},
   "outputs": [],
   "source": [
    "# Load an image\n",
    "image = cv2.imread('../Resources/Photos/lady.jpg')  # Replace with your image path\n",
    "\n",
    "# Generate Gaussian pyramid with 5 levels\n",
    "pyramid_levels = 5\n",
    "gaussian_pyramid = generate_gaussian_pyramid(image, pyramid_levels)"
   ]
  },
  {
   "cell_type": "code",
   "execution_count": 4,
   "metadata": {},
   "outputs": [],
   "source": [
    "# Display each level of the pyramid\n",
    "for i, level in enumerate(gaussian_pyramid):\n",
    "    window_name = f\"Level {i}\"\n",
    "    cv2.imshow(window_name, level)\n",
    "    cv2.waitKey(0)  # Wait for a key press to move to the next window\n",
    "\n",
    "# Close all OpenCV windows\n",
    "cv2.destroyAllWindows()"
   ]
  },
  {
   "cell_type": "code",
   "execution_count": null,
   "metadata": {},
   "outputs": [],
   "source": []
  }
 ],
 "metadata": {
  "kernelspec": {
   "display_name": "dl_venv",
   "language": "python",
   "name": "dl_venv"
  },
  "language_info": {
   "codemirror_mode": {
    "name": "ipython",
    "version": 3
   },
   "file_extension": ".py",
   "mimetype": "text/x-python",
   "name": "python",
   "nbconvert_exporter": "python",
   "pygments_lexer": "ipython3",
   "version": "3.10.9"
  }
 },
 "nbformat": 4,
 "nbformat_minor": 2
}
