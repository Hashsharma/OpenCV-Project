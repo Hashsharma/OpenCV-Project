{
 "cells": [
  {
   "cell_type": "code",
   "execution_count": 1,
   "metadata": {},
   "outputs": [],
   "source": [
    "import cv2 as cv"
   ]
  },
  {
   "cell_type": "code",
   "execution_count": 2,
   "metadata": {},
   "outputs": [
    {
     "data": {
      "text/plain": [
       "-1"
      ]
     },
     "execution_count": 2,
     "metadata": {},
     "output_type": "execute_result"
    }
   ],
   "source": [
    "img = cv.imread('../Resources/Photos/cat.jpg', cv.IMREAD_GRAYSCALE)\n",
    "equalized_image = cv.equalizeHist(img)\n",
    "cv.imshow('Original Image', img)\n",
    "cv.imshow('Equalized Image', equalized_image)\n",
    "cv.waitKey(0)"
   ]
  },
  {
   "cell_type": "code",
   "execution_count": 7,
   "metadata": {},
   "outputs": [
    {
     "data": {
      "text/plain": [
       "-1"
      ]
     },
     "execution_count": 7,
     "metadata": {},
     "output_type": "execute_result"
    }
   ],
   "source": [
    "# Contrast Limited Adaptive Histogram Equalization (CLAHE)\n",
    "clahe = cv.createCLAHE(clipLimit=8.0, tileGridSize=(8, 8))\n",
    "\n",
    "# Apply CLAHE to image\n",
    "equalized_image_2 = clahe.apply(img)\n",
    "cv.imshow('Original Image', img)\n",
    "cv.imshow('Equalized Image', equalized_image)\n",
    "cv.imshow('Adaptive Image', equalized_image_2)\n",
    "cv.waitKey(0)"
   ]
  },
  {
   "cell_type": "code",
   "execution_count": 4,
   "metadata": {},
   "outputs": [],
   "source": [
    "cv.destroyAllWindows()"
   ]
  },
  {
   "cell_type": "code",
   "execution_count": null,
   "metadata": {},
   "outputs": [],
   "source": []
  }
 ],
 "metadata": {
  "kernelspec": {
   "display_name": "venv_opencv",
   "language": "python",
   "name": "venv_opencv"
  },
  "language_info": {
   "codemirror_mode": {
    "name": "ipython",
    "version": 3
   },
   "file_extension": ".py",
   "mimetype": "text/x-python",
   "name": "python",
   "nbconvert_exporter": "python",
   "pygments_lexer": "ipython3",
   "version": "3.10.6"
  }
 },
 "nbformat": 4,
 "nbformat_minor": 2
}
