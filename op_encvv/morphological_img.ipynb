{
 "cells": [
  {
   "cell_type": "code",
   "execution_count": 1,
   "metadata": {},
   "outputs": [],
   "source": [
    "import cv2 as cv\n",
    "import numpy as np\n",
    "import matplotlib.pyplot as plt\n",
    "import copy"
   ]
  },
  {
   "cell_type": "code",
   "execution_count": 3,
   "metadata": {},
   "outputs": [],
   "source": [
    "img = cv.imread('../Resources/Photos/cats.jpg', cv.IMREAD_GRAYSCALE)\n",
    "\n",
    "kernel = np.ones((3, 3), np.uint8)\n",
    "opened_img = cv.morphologyEx(img, cv.MORPH_OPEN, kernel)\n",
    "cv.imshow('title', img)\n",
    "cv.imshow('new title', opened_img)\n",
    "cv.waitKey(0)\n",
    "cv.destroyAllWindows()"
   ]
  },
  {
   "cell_type": "code",
   "execution_count": 4,
   "metadata": {},
   "outputs": [],
   "source": [
    "# Image Morphology in OpenCV\n",
    "\n",
    "# Morphological operations are a set of operations that process images based on their shapes. They are typically applied to binary (black and white) images but can also be applied to grayscale images. These operations manipulate the image's structure using a structuring element, which defines the neighborhood around a pixel.\n",
    "\n",
    "# Common morphological operations include:\n",
    "\n",
    "# Dilation: Expands the boundaries of bright regions (i.e., increases the white area in an image).\n",
    "# Erosion: Shrinks the boundaries of bright regions (i.e., decreases the white area in an image).\n",
    "# Opening: Erosion followed by dilation. It removes small noise or breaks small objects.\n",
    "# Closing: Dilation followed by erosion. It removes small holes or gaps inside objects.\n",
    "# Gradient: Difference between dilation and erosion; it highlights the edges of objects."
   ]
  },
  {
   "cell_type": "code",
   "execution_count": 5,
   "metadata": {},
   "outputs": [],
   "source": [
    "di = {\"Original Image\": img}\n",
    "def show_images(data):\n",
    "    for key, value in data.items():\n",
    "        cv.imshow(key, value)\n",
    "    \n",
    "    cv.waitKey(0)\n",
    "    cv.destroyAllWindows()"
   ]
  },
  {
   "cell_type": "code",
   "execution_count": 7,
   "metadata": {},
   "outputs": [],
   "source": [
    "## Dilation \n",
    "dilate = cv.dilate(img, kernel, iterations=3)\n",
    "di_dilate = copy.deepcopy(di)\n",
    "di_dilate['Dilated Images'] = dilate\n",
    "show_images(di_dilate)"
   ]
  },
  {
   "cell_type": "code",
   "execution_count": 8,
   "metadata": {},
   "outputs": [],
   "source": [
    "# Erosion\n",
    "erosion = cv.erode(dilate, kernel, iterations=3)\n",
    "di_dilate['Erosoin Image'] = erosion\n",
    "show_images(di_dilate)"
   ]
  },
  {
   "cell_type": "code",
   "execution_count": 9,
   "metadata": {},
   "outputs": [],
   "source": [
    "# Opening (erosion followed by dilation)\n",
    "opened_image = cv.morphologyEx(img, cv.MORPH_OPEN, kernel)\n",
    "di_op_img = copy.deepcopy(di)\n",
    "di_op_img['Opened Image'] = opened_image\n",
    "show_images(di_op_img)"
   ]
  },
  {
   "cell_type": "code",
   "execution_count": null,
   "metadata": {},
   "outputs": [],
   "source": []
  }
 ],
 "metadata": {
  "kernelspec": {
   "display_name": "dl_venv",
   "language": "python",
   "name": "dl_venv"
  },
  "language_info": {
   "codemirror_mode": {
    "name": "ipython",
    "version": 3
   },
   "file_extension": ".py",
   "mimetype": "text/x-python",
   "name": "python",
   "nbconvert_exporter": "python",
   "pygments_lexer": "ipython3",
   "version": "3.10.9"
  }
 },
 "nbformat": 4,
 "nbformat_minor": 2
}
